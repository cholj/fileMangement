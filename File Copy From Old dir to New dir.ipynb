{
 "cells": [
  {
   "cell_type": "code",
   "execution_count": 2,
   "id": "7dbbcadc",
   "metadata": {},
   "outputs": [],
   "source": [
    "# Import modules\n",
    "# import PySimpleGUI as sg # pip install pysimplegui\n",
    "import pandas as pd\n",
    "import os\n",
    "from pathlib import Path\n",
    "import time\n",
    "import sys\n",
    "import datetime\n",
    "import matplotlib.pyplot as plt\n",
    "from matplotlib import style\n",
    "style.use('ggplot')\n",
    "import numpy as np\n",
    "import string\n",
    "import re\n",
    "import shutil\n",
    "from shutil import copyfile\n",
    "import subprocess\n",
    "import xlsxwriter # import xlsxwriter module\n"
   ]
  },
  {
   "cell_type": "markdown",
   "id": "bf18269f",
   "metadata": {},
   "source": [
    "# Function"
   ]
  },
  {
   "cell_type": "code",
   "execution_count": 3,
   "id": "3dbce019",
   "metadata": {},
   "outputs": [],
   "source": [
    "def RenameFiles1(fileFolder,filename):\n",
    "    os.chdir(fileFolder)\n",
    "    os.getcwd()\n",
    "    filename = filename + \".xlsx\"\n",
    "    # Workbook() takes one, non-optional, argument\n",
    "    # which is the filename that we want to create.\n",
    "    # filename = 'FileRename.xlsx'\n",
    "    workbook = xlsxwriter.Workbook(filename)\n",
    "\n",
    "    # The workbook object is then used to add new\n",
    "    # worksheet via the add_worksheet() method.\n",
    "    worksheet = workbook.add_worksheet()\n",
    "\n",
    "    # Use the worksheet object to write\n",
    "    # data via the write() method.\n",
    "    worksheet.write('A1', 'OLD')\n",
    "    worksheet.write('B1', 'NEW')\n",
    "    worksheet.write('C1', 'OLD_DIR')\n",
    "    worksheet.write('D1', 'NEW_DIR')\n",
    "\n",
    "    worksheet.write('A2', '02021215-GE-14790021.pdf')\n",
    "    worksheet.write('A3', 'SingleLine.xlsx')\n",
    "    \n",
    "    worksheet.write('B2', '02021215-GE-14790021_Rev3.pdf')\n",
    "    worksheet.write('B3', 'SingleLineTEST.xlsx')\n",
    "    \n",
    "    worksheet.write('C2', r'C:\\Users\\cjang\\OneDrive - Freeport-McMoRan Inc\\Documents\\Access\\PDF')\n",
    "    worksheet.write('D2', r'C:\\Users\\cjang\\OneDrive - Freeport-McMoRan Inc\\Documents\\Access\\PDF\\renamed')\n",
    "    \n",
    "    worksheet.write('C3', r'C:\\Users\\cjang\\OneDrive - Freeport-McMoRan Inc\\Documents\\Access\\excel')\n",
    "    worksheet.write('D3', r'C:\\Users\\cjang\\OneDrive - Freeport-McMoRan Inc\\Documents\\Access\\PDF\\renamed')\n",
    "\n",
    "    # Finally, close the Excel file\n",
    "    # via the close() method.\n",
    "    workbook.close()\n",
    "    \n",
    "    os.chdir(fileFolder)\n",
    "    print (os.getcwd())\n",
    "    os.startfile(filename)\n",
    "    \n",
    "def RenameFiles2(fileFolder,filename):\n",
    "    filename = filename + \".xlsx\"\n",
    "    \n",
    "    df=pd.read_excel(filename,\"Sheet1\")       ### Insert excel file name and sheet name\n",
    "    fold = df.OLD.tolist() # converting 'File Name' to list\n",
    "    fnew = df.NEW.tolist() # converting 'Dwg Number' number to list\n",
    "    fodir = df.OLD_DIR.tolist() # converting 'Dwg Number' number to list\n",
    "    fndir = df.NEW_DIR.tolist() # converting 'Dwg Number' number to list\n",
    "    # frevnum = df.RevNum.tolist() # converting 'Revision Number' number to list\n",
    "\n",
    "    print(fnew)\n",
    "\n",
    "    missingfile=[]\n",
    "\n",
    "    i=0\n",
    "\n",
    "    while i < len(fold):\n",
    "        # source file\n",
    "        srcdir = fodir[i]\n",
    "        os.chdir(srcdir)\n",
    "\n",
    "        src = srcdir + \"\\\\\" + fold[i]\n",
    "\n",
    "        # destination file\n",
    "        dstdir = fndir[i]\n",
    "        ########\n",
    "        if not os.path.exists(dstdir):\n",
    "            os.makedirs(dstdir)\n",
    "        #########\n",
    "        os.chdir(dstdir)\n",
    "        dst = dstdir + \"\\\\\" + fnew[i]\n",
    "\n",
    "        try:\n",
    "            #copyfile(src,dst)\n",
    "            shutil.copy2(src,dst)\n",
    "\n",
    "        except:\n",
    "            missingfilelist=pd.DataFrame(missingfile)  # make a list of missing file name\n",
    "            pass\n",
    "\n",
    "        i=i+1\n",
    "\n",
    "    missingfile"
   ]
  },
  {
   "cell_type": "code",
   "execution_count": 6,
   "id": "967577c4",
   "metadata": {},
   "outputs": [],
   "source": [
    "def CreateFileList(mypath,file_path_dir,filename):\n",
    "    os.chdir(mypath)\n",
    "    os.getcwd()\n",
    "    file_path=file_path_dir+\"\\\\\"+filename\n",
    "\n",
    "    filelistfull=[]\n",
    "    filelistonly=[]\n",
    "    filelistdironly=[]\n",
    "    file_hyper=[]\n",
    "\n",
    "\n",
    "    for root, dirs, files in os.walk(mypath,topdown=False):\n",
    "        for name in files:\n",
    "            filenamesfull = os.path.join(root,name)\n",
    "            filenamesonly = os.path.join(name)\n",
    "            filenamedirolny = os.path.join(root)\n",
    "\n",
    "            filelistfull.append(filenamesfull)\n",
    "            filelistonly.append(filenamesonly)\n",
    "            filelistdironly.append(filenamedirolny)\n",
    "\n",
    "        \n",
    "    df1=pd.DataFrame(filelistfull)\n",
    "    df2=pd.DataFrame(filelistonly)\n",
    "    df3=pd.DataFrame(filelistdironly)\n",
    "    df=pd.concat([df2,df2,df3,df3],axis=1)\n",
    "\n",
    "\n",
    "    \n",
    "    df.columns = ['OLD','NEW','OLD_DIR','NEW_DIR']\n",
    "   \n",
    "    df.to_csv(filename)\n",
    "    os.getcwd()\n",
    "    # print (file_path)\n",
    "    df.to_excel(file_path, index=False)\n",
    "    # df.to_excel(file_path, index=False)\n",
    "    # df.to_csv(file_path, index=False)\n",
    "\n",
    "    os.chdir(file_path_dir)\n",
    "    os.startfile(filename)"
   ]
  },
  {
   "cell_type": "markdown",
   "id": "d5325a6b",
   "metadata": {},
   "source": [
    "# Create File List"
   ]
  },
  {
   "cell_type": "code",
   "execution_count": 7,
   "id": "0590f74c",
   "metadata": {},
   "outputs": [],
   "source": [
    "# Enter Original File List Directory(mypath), Excel filelist saving directory(file_path_dir), Excel filelist name(filename)\n",
    "mypath=r\"G:\\cjang\\Working\\20080264-Parcon\\Drawing\\pdf\\Combined\\PRINT\\2024-03-07\"\n",
    "file_path_dir= r\"G:\\cjang\\Working\\20080264-Parcon\\Drawing\\pdf\\Combined\\PRINT\\2024-03-07\"\n",
    "filename=\"FileList.xlsx\""
   ]
  },
  {
   "cell_type": "code",
   "execution_count": 8,
   "id": "551da4a9",
   "metadata": {
    "scrolled": false
   },
   "outputs": [],
   "source": [
    "# Generate File List Excel file\n",
    "CreateFileList(mypath,file_path_dir,filename)"
   ]
  },
  {
   "cell_type": "markdown",
   "id": "b13a1d98",
   "metadata": {},
   "source": [
    "# Rename File Create and copy from old dir to New dir Execution"
   ]
  },
  {
   "cell_type": "code",
   "execution_count": 9,
   "id": "32767412",
   "metadata": {},
   "outputs": [],
   "source": [
    "# Enter NEW excel file location\n",
    "fileFolder = r\"G:\\cjang\\Working\\20080264-Parcon\\Drawing\\pdf\\Combined\\PRINT\\2024-03-07\\rename\"\n",
    "filename =\"2024-03-07.xlsx\""
   ]
  },
  {
   "cell_type": "code",
   "execution_count": 10,
   "id": "f4cb2f48",
   "metadata": {},
   "outputs": [],
   "source": [
    "# Set new dstdir create or set\n",
    "dstdir = fileFolder \n",
    "if not os.path.exists(dstdir):\n",
    "    os.makedirs(dstdir)"
   ]
  },
  {
   "cell_type": "code",
   "execution_count": 11,
   "id": "c58d531a",
   "metadata": {
    "scrolled": true
   },
   "outputs": [
    {
     "data": {
      "text/plain": [
       "'G:\\\\cjang\\\\Working\\\\20080264-Parcon\\\\Drawing\\\\pdf\\\\Combined\\\\PRINT\\\\2024-03-07\\\\rename'"
      ]
     },
     "execution_count": 11,
     "metadata": {},
     "output_type": "execute_result"
    }
   ],
   "source": [
    "os.chdir(fileFolder)\n",
    "os.getcwd()"
   ]
  },
  {
   "cell_type": "code",
   "execution_count": 12,
   "id": "2c52bff1",
   "metadata": {
    "scrolled": true
   },
   "outputs": [
    {
     "name": "stdout",
     "output_type": "stream",
     "text": [
      "G:\\cjang\\Working\\20080264-Parcon\\Drawing\\pdf\\Combined\\PRINT\\2024-03-07\\rename\n"
     ]
    }
   ],
   "source": [
    "# Generate Excel file\n",
    "RenameFiles1(fileFolder,filename)"
   ]
  },
  {
   "cell_type": "code",
   "execution_count": 13,
   "id": "19a1e64f",
   "metadata": {},
   "outputs": [],
   "source": [
    "# Once update the excel file then,\n",
    "# Save and Close the excel file\n",
    "# Execute RenameFiles2(fileFolder,filename)"
   ]
  },
  {
   "cell_type": "code",
   "execution_count": 14,
   "id": "ff5401a9",
   "metadata": {
    "scrolled": false
   },
   "outputs": [
    {
     "name": "stdout",
     "output_type": "stream",
     "text": [
      "['23270028-GE-O9161111.pdf', '23270028-GE-O9161112.pdf', '23270028-GE-O9161113.pdf', '23270028-GE-O9161115.pdf', '23270028-GE-O9161116.pdf', '23270028-GE-O9161411.pdf', '23270028-GE-O9161412.pdf', '23280028-GE-O4650111.pdf', '23280028-GE-O4650112.pdf', '23280028-GE-O4650113.pdf', '23280028-GE-O4650115.pdf', '23280028-GE-O4650116.pdf', '23280028-GE-O4650411.pdf', '23280028-GE-O4650412.pdf', '23280028-GE-O4650421.pdf', '23280028-GE-O4650422.pdf', '23280028-GE-O4650431.pdf', '23280028-GE-O4650432.pdf', '23280028-GE-O4650441.pdf', '23280028-GE-O4650442.pdf', '23300028-GE-P1860111.pdf', '23300028-GE-P1860112.pdf', '23300028-GE-P1860113.pdf', '23300028-GE-P1860115.pdf', '23300028-GE-P1860116.pdf', '23300028-GE-P1860411.pdf', '23300028-GE-P1860412.pdf', '23300028-GE-P1860421.pdf', '23300028-GE-P1860422.pdf', '23300028-GE-P1860431.pdf', '23300028-GE-P1860432.pdf', '23300028-GE-P1860441.pdf', '23300028-GE-P1860442.pdf']\n"
     ]
    }
   ],
   "source": [
    "RenameFiles2(fileFolder,filename)"
   ]
  },
  {
   "cell_type": "code",
   "execution_count": 15,
   "id": "c117c8f9",
   "metadata": {},
   "outputs": [],
   "source": [
    "# Finished!"
   ]
  },
  {
   "cell_type": "code",
   "execution_count": null,
   "id": "287805d4",
   "metadata": {},
   "outputs": [],
   "source": []
  }
 ],
 "metadata": {
  "kernelspec": {
   "display_name": "Python 3 (ipykernel)",
   "language": "python",
   "name": "python3"
  },
  "language_info": {
   "codemirror_mode": {
    "name": "ipython",
    "version": 3
   },
   "file_extension": ".py",
   "mimetype": "text/x-python",
   "name": "python",
   "nbconvert_exporter": "python",
   "pygments_lexer": "ipython3",
   "version": "3.11.5"
  }
 },
 "nbformat": 4,
 "nbformat_minor": 5
}
