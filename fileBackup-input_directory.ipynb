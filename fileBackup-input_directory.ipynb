{
 "cells": [
  {
   "cell_type": "code",
   "execution_count": 1,
   "metadata": {},
   "outputs": [],
   "source": [
    "#################################################################################\n",
    "#  File Backup with Name Change based on Excel file fromFileName to toFileName  #\n",
    "#################################################################################"
   ]
  },
  {
   "cell_type": "code",
   "execution_count": 2,
   "metadata": {},
   "outputs": [],
   "source": [
    "### File list copy from drawing list to a new directory\n"
   ]
  },
  {
   "cell_type": "code",
   "execution_count": 3,
   "metadata": {},
   "outputs": [],
   "source": [
    "# Import modules\n",
    "import pandas as pd\n",
    "import os\n",
    "import time\n",
    "import datetime\n",
    "import matplotlib.pyplot as plt\n",
    "from matplotlib import style\n",
    "style.use('ggplot')\n",
    "import numpy as np"
   ]
  },
  {
   "cell_type": "code",
   "execution_count": 4,
   "metadata": {},
   "outputs": [
    {
     "name": "stdout",
     "output_type": "stream",
     "text": [
      "Enter file source directory\n"
     ]
    }
   ],
   "source": [
    "print(\"Enter file source directory\")"
   ]
  },
  {
   "cell_type": "code",
   "execution_count": 5,
   "metadata": {
    "scrolled": true
   },
   "outputs": [
    {
     "name": "stdout",
     "output_type": "stream",
     "text": [
      "L:\\Electrical\\TNPI_Ph2\\02-dwgL:\\Electrical\\TNPI_Ph2\\02-dwg\\pdf\n"
     ]
    }
   ],
   "source": [
    "srcdir = input(\"L:\\Electrical\\TNPI_Ph2\\\\02-dwg\")     # Copy From file location"
   ]
  },
  {
   "cell_type": "code",
   "execution_count": 6,
   "metadata": {},
   "outputs": [
    {
     "name": "stdout",
     "output_type": "stream",
     "text": [
      "You Entered Source file location L:\\Electrical\\TNPI_Ph2\\02-dwg\\pdf\n"
     ]
    }
   ],
   "source": [
    "print(\"You Entered Source file location \" + srcdir )"
   ]
  },
  {
   "cell_type": "code",
   "execution_count": 7,
   "metadata": {},
   "outputs": [
    {
     "name": "stdout",
     "output_type": "stream",
     "text": [
      "Enter file backup directory\n",
      "Share file folder is:\n",
      "S:\\Shared With Me\\Customers\\TNPI - Trans-Northern Pipeline\\Projects\\007-18TNPI017 - TNPI P2 - North Toronto\\02-Design\\30-Drawings\n"
     ]
    }
   ],
   "source": [
    "print(\"Enter file backup directory\")\n",
    "print(\"Share file folder is:\")\n",
    "print(\"S:\\\\Shared With Me\\\\Customers\\\\TNPI - Trans-Northern Pipeline\\\\Projects\\\\007-18TNPI017 - TNPI P2 - North Toronto\\\\02-Design\\\\30-Drawings\")"
   ]
  },
  {
   "cell_type": "code",
   "execution_count": null,
   "metadata": {},
   "outputs": [],
   "source": [
    "dstdirRoot = input(\"Enter the file backup location  \")     # Copy From file location"
   ]
  },
  {
   "cell_type": "code",
   "execution_count": null,
   "metadata": {},
   "outputs": [],
   "source": [
    "# dstdirRoot = \"S:\\\\Shared With Me\\\\Customers\\\\TNPI - Trans-Northern Pipeline\\\\Projects\\\\007-18TNPI017 - TNPI P2 - North Toronto\\\\02-Design\\\\30-Drawings\"                                # Backup File Location\n",
    "today = datetime.date.today()                             # Today \n",
    "os.chdir(srcdir)                                       # From working directory\n",
    "os.getcwd()                                    # From working directory\n",
    "print(dstdirRoot)"
   ]
  },
  {
   "cell_type": "code",
   "execution_count": null,
   "metadata": {
    "scrolled": true
   },
   "outputs": [],
   "source": [
    "backupToday = time.strftime(\"\\%Y_%m_%d\", time.gmtime(time.time()))\n",
    "timenow=time.time()\n",
    "timestr = str(int(timenow))  # change time to string\n",
    "# type(timestr)\n",
    "# print(timestr)\n",
    "dstdir = dstdirRoot+backupToday+\"_\"+timestr+\"_backup\"\n",
    "#  print(backupDirectory)\n",
    "os.makedirs(dstdir)                                   # Creating Backup directory with time stamp"
   ]
  },
  {
   "cell_type": "code",
   "execution_count": null,
   "metadata": {},
   "outputs": [],
   "source": [
    "filelistfull=[]\n",
    "filelistonly=[]\n",
    "filelistdironly=[]\n",
    "backupfilelist=[]\n",
    "\n",
    "for root, dirs, files in os.walk(srcdir,topdown=False):\n",
    "    for name in files:\n",
    "        filenamesfull = os.path.join(root,name)\n",
    "        filenamesonly = os.path.join(name)\n",
    "        filenamedirolny = os.path.join(root)\n",
    "        \n",
    "        \n",
    "        filelistfull.append(filenamesfull)\n",
    "        filelistonly.append(filenamesonly)\n",
    "        filelistdironly.append(filenamedirolny)\n",
    "        backupfilelist.append(time.strftime(\"%Y_%m_%d\") +\"_\"+filenamesonly)"
   ]
  },
  {
   "cell_type": "code",
   "execution_count": null,
   "metadata": {},
   "outputs": [],
   "source": [
    "df1=pd.DataFrame(filelistfull)\n",
    "df2=pd.DataFrame(filelistonly)\n",
    "df3=pd.DataFrame(filelistdironly)\n",
    "df4=pd.DataFrame(backupfilelist)\n",
    "df=pd.concat([df2,df3,df1,df4],axis=1)\n",
    "df.columns = ['File_Name','File_Directory','File_path','BackupFileName']"
   ]
  },
  {
   "cell_type": "code",
   "execution_count": null,
   "metadata": {
    "scrolled": true
   },
   "outputs": [],
   "source": [
    "dfCopyList=df.loc[df['File_Directory'] == srcdir]    #file list of the current file directory"
   ]
  },
  {
   "cell_type": "code",
   "execution_count": null,
   "metadata": {},
   "outputs": [],
   "source": [
    "fdwg = dfCopyList.File_Name.tolist()    # converting drawing number to list filename"
   ]
  },
  {
   "cell_type": "code",
   "execution_count": null,
   "metadata": {},
   "outputs": [],
   "source": [
    "from shutil import copyfile\n",
    "i=0\n",
    "missingfile=[]\n",
    "while i < len(fdwg):\n",
    "    # src file\n",
    "    src = srcdir + \"\\\\\" + fdwg[i]\n",
    "    dst = dstdir + \"\\\\\" + fdwg[i]\n",
    "    #print(src)\n",
    "    #print(dst)\n",
    "    \n",
    "    try:\n",
    "        copyfile(src,dst)\n",
    "    except:\n",
    "        missingfile.append(fdwg[i])\n",
    "        pass\n",
    "      \n",
    "    i=i+1\n",
    "\n",
    "missingfilelist=pd.DataFrame(missingfile) # make a list of missing file name"
   ]
  },
  {
   "cell_type": "code",
   "execution_count": null,
   "metadata": {},
   "outputs": [],
   "source": [
    "os.chdir(dstdir)\n",
    "os.getcwd()\n",
    "print(os.getcwd())"
   ]
  },
  {
   "cell_type": "code",
   "execution_count": null,
   "metadata": {},
   "outputs": [],
   "source": [
    "df_old = dfCopyList.File_Name.tolist()\n",
    "df_new = dfCopyList.BackupFileName.tolist()"
   ]
  },
  {
   "cell_type": "code",
   "execution_count": null,
   "metadata": {
    "scrolled": true
   },
   "outputs": [],
   "source": [
    "#File Name Change\n",
    "print(len(df_new))"
   ]
  },
  {
   "cell_type": "code",
   "execution_count": null,
   "metadata": {},
   "outputs": [],
   "source": [
    "i=0\n",
    "fileNotfound=[]\n",
    "fileNameChanged=[]\n",
    "\n",
    "while i<len(df_old):\n",
    "#     print(df_old[i])\n",
    "     \n",
    "    \n",
    "    try:\n",
    "        os.rename(df_old[i],df_new[i])\n",
    "\n",
    "    except FileNotFoundError as e:\n",
    "        fileNotfound.append(df_old[i])\n",
    "    else:\n",
    "        pass\n",
    "    finally:\n",
    "        pass\n",
    "          \n",
    "    fileNameChanged.append(df_old[i] +\" : \" + df_new[i])\n",
    "    i=i+1\n",
    "    \n",
    "# print(fileNotfoundPdf)"
   ]
  },
  {
   "cell_type": "code",
   "execution_count": null,
   "metadata": {},
   "outputs": [],
   "source": []
  }
 ],
 "metadata": {
  "kernelspec": {
   "display_name": "Python 3",
   "language": "python",
   "name": "python3"
  },
  "language_info": {
   "codemirror_mode": {
    "name": "ipython",
    "version": 3
   },
   "file_extension": ".py",
   "mimetype": "text/x-python",
   "name": "python",
   "nbconvert_exporter": "python",
   "pygments_lexer": "ipython3",
   "version": "3.6.5"
  }
 },
 "nbformat": 4,
 "nbformat_minor": 2
}
