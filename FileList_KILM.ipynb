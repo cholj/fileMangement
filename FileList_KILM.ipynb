{
 "cells": [
  {
   "cell_type": "code",
   "execution_count": 1,
   "id": "15970091",
   "metadata": {},
   "outputs": [],
   "source": [
    "### Gathering file list from directories.\n",
    "# 1. Enter directory name to make a list\n",
    "# 2. Enter File Saving directory\n",
    "# 3. Enter excel file name to be saved\n",
    "### Gathering file list from directories.\n",
    "# 1. Enter directory name to make a list\n",
    "# 2. Enter File Saving directory\n",
    "# 3. Enter excel file name to be saved\n",
    "\n",
    "import os\n",
    "import re\n",
    "import glob\n",
    "import time\n",
    "import pandas as pd\n",
    "import sys\n",
    "import csv\n",
    "import numpy as np\n",
    "import datetime\n",
    "now = datetime.datetime.now()\n",
    "time = now.strftime('%Y-%m-%d-%H-%M')\n",
    "\n",
    "# Function\n",
    "def walk_files(directory_path,csvfilename,csvfilelocation):\n",
    "    now = datetime.datetime.now()\n",
    "    print(\"Start time: \")\n",
    "    print(str(now))\n",
    "    \n",
    "    os.chdir(directory_path)\n",
    "    print(os.getcwd())\n",
    "    # Walk through files in directory_path\n",
    "    filelistfull=[]\n",
    "    filelistonly=[]\n",
    "    filelistdironly=[]\n",
    "    fileextentiononly=[]    # extention\n",
    " \n",
    "    \n",
    "    for root, dirs, files in os.walk(directory_path,topdown=False):\n",
    "        for name in files:\n",
    "            filenamesfull = os.path.join(root,name)\n",
    "            filenamesonly = os.path.join(name)\n",
    "            filenamedirolny = os.path.join(root)\n",
    "            fileextention0 = os.path.splitext(filenamesfull)  # extention\n",
    "            fileextention = fileextention0[-1]                # extention\n",
    "            # print(fileextention)\n",
    "\n",
    "    \n",
    "            filelistfull.append(filenamesfull)\n",
    "            filelistonly.append(filenamesonly)\n",
    "            filelistdironly.append(filenamedirolny)\n",
    "            fileextentiononly.append(fileextention)\n",
    "#             filetimefull.append(m_ti)   # time\n",
    "            \n",
    "    df1=pd.DataFrame(filelistfull)\n",
    "    df2=pd.DataFrame(filelistonly)\n",
    "    df3=pd.DataFrame(filelistdironly)\n",
    "    df4=pd.DataFrame(fileextentiononly)\n",
    "#     df4=pd.DataFrame(filetimefull)   # time\n",
    "    \n",
    "    df=pd.concat([df2,df3,df1,df4],axis=1)    # ,df4\n",
    "    \n",
    "    df.columns = ['File_Name','File_Directory','File_path','File_Extention']\n",
    "    df[\"File_Directory\"] = df[\"File_Directory\"].apply(lambda x: x.replace(\":\", \":\\\\\"))\n",
    "    df[\"File_path\"] = df[\"File_path\"].apply(lambda x: x.replace(\":\", \":\\\\\"))\n",
    "    # df[['File_Name_only','Extention']] = df['File_Name'].str.split('.',expand=True, n=1)\n",
    "    \n",
    "    \n",
    "    dfgroupby=df.groupby('File_Extention').describe()\n",
    "    \n",
    "    \n",
    "    os.chdir(csvfilelocation)\n",
    "    df.to_csv(csvfilename)\n",
    "    \n",
    "    os.chdir(csvfilecountlocation)\n",
    "    dfgroupby.to_csv(time+csvfilename)\n",
    "    \n",
    "    \n",
    "    return df\n",
    "\n",
    "    \n",
    "    print (\"File list saved in \"+ csvfilelocation + \"\\nFile name: \" + csvfilename)"
   ]
  },
  {
   "cell_type": "code",
   "execution_count": 2,
   "id": "3696738c",
   "metadata": {},
   "outputs": [],
   "source": [
    "list_dirK = r\"K:\"\n",
    "list_dirI = r\"I:\"\n",
    "list_dirL = r\"L:\"\n",
    "list_dirM = r\"M:\"\n",
    "list_dirKp = r\"K:\\20080264-PARCON\"\n",
    "list_dirKg = r\"K:\\20080264-GBC_Ore_Flow\"\n",
    "\n",
    "\n",
    "csvfilenameK = r'FileNameKall.csv'\n",
    "csvfilenameI = r'FileNameI.csv'\n",
    "csvfilenameL = r'FileNameL.csv'\n",
    "csvfilenameM = r'FileNameM.csv'\n",
    "csvfilenameKp = r'FileNameKp.csv'\n",
    "csvfilenameKg = r'FileNameKg.csv'\n",
    "\n",
    "csvfilelocation = r'G:\\cjang\\INBOX\\access\\FileList'\n",
    "csvfilecountlocation = r'G:\\cjang\\INBOX\\access\\FileList\\count'"
   ]
  },
  {
   "cell_type": "code",
   "execution_count": 3,
   "id": "6382589c",
   "metadata": {},
   "outputs": [],
   "source": [
    "#### fOR ALL DIRECTORY"
   ]
  },
  {
   "cell_type": "code",
   "execution_count": 4,
   "id": "b6eabc42",
   "metadata": {
    "scrolled": true
   },
   "outputs": [
    {
     "name": "stdout",
     "output_type": "stream",
     "text": [
      "Start time: \n",
      "2024-03-05 06:55:19.510238\n",
      "K:\\\n",
      "End time: \n",
      "2024-03-05 07:47:26.617719\n",
      "Start time: \n",
      "2024-03-05 07:47:26.617719\n",
      "I:\\\n",
      "End time: \n",
      "2024-03-05 08:09:14.905332\n",
      "Start time: \n",
      "2024-03-05 08:09:14.905332\n",
      "L:\\\n",
      "End time: \n",
      "2024-03-05 08:24:41.833074\n",
      "Start time: \n",
      "2024-03-05 08:24:41.833074\n",
      "M:\\\n",
      "End time: \n",
      "2024-03-05 08:27:37.334298\n",
      "Start time: \n",
      "2024-03-05 08:27:37.334298\n",
      "K:\\20080264-PARCON\n",
      "End time: \n",
      "2024-03-05 08:29:26.774232\n",
      "Start time: \n",
      "2024-03-05 08:29:26.774232\n",
      "K:\\20080264-GBC_Ore_Flow\n",
      "End time: \n",
      "2024-03-05 08:37:05.164948\n"
     ]
    }
   ],
   "source": [
    "walk_files(list_dirK,csvfilenameK,csvfilelocation)\n",
    "now = datetime.datetime.now()\n",
    "print(\"End time: \")\n",
    "print(str(now))\n",
    "\n",
    "walk_files(list_dirI,csvfilenameI,csvfilelocation)\n",
    "now = datetime.datetime.now()\n",
    "print(\"End time: \")\n",
    "print(str(now))\n",
    "\n",
    "walk_files(list_dirL,csvfilenameL,csvfilelocation)\n",
    "now = datetime.datetime.now()\n",
    "print(\"End time: \")\n",
    "print(str(now))\n",
    "\n",
    "walk_files(list_dirM,csvfilenameM,csvfilelocation)\n",
    "now = datetime.datetime.now()\n",
    "print(\"End time: \")\n",
    "print(str(now))\n",
    "\n",
    "#     For Parcon Project  \n",
    "walk_files(list_dirKp,csvfilenameKp,csvfilelocation)\n",
    "now = datetime.datetime.now()\n",
    "print(\"End time: \")\n",
    "print(str(now))\n",
    "\n",
    "#     For GBC Project  \n",
    "walk_files(list_dirKg,csvfilenameKg,csvfilelocation)\n",
    "now = datetime.datetime.now()\n",
    "print(\"End time: \")\n",
    "print(str(now))\n",
    "\n",
    "#     For Parcon Project   # time\n"
   ]
  },
  {
   "cell_type": "code",
   "execution_count": 5,
   "id": "d36db4e2",
   "metadata": {},
   "outputs": [],
   "source": [
    "### fOR COMBINE"
   ]
  },
  {
   "cell_type": "code",
   "execution_count": 6,
   "id": "ba160bde",
   "metadata": {},
   "outputs": [
    {
     "name": "stdout",
     "output_type": "stream",
     "text": [
      "End time: \n",
      "2024-03-05 08:38:19.394507\n"
     ]
    }
   ],
   "source": [
    "import glob\n",
    "import pandas as pd\n",
    "os.chdir(csvfilelocation)\n",
    "\n",
    "# Get data file names\n",
    "path = r'G:\\cjang\\INBOX\\access\\FileList'\n",
    "filenames = [\"FileNameKp.csv\", \"FileNameKg.csv\"]\n",
    "\n",
    "dfs = []\n",
    "for filename in filenames:\n",
    "    dfs.append(pd.read_csv(filename))\n",
    "\n",
    "# Concatenate all data into one DataFrame\n",
    "big_frame = pd.concat(dfs, ignore_index=True)\n",
    "big_frame.to_csv(\"FileNameKp.csv\")\n",
    "\n",
    "now = datetime.datetime.now()\n",
    "print(\"End time: \")\n",
    "print(str(now))"
   ]
  },
  {
   "cell_type": "code",
   "execution_count": null,
   "id": "912b4b4b",
   "metadata": {},
   "outputs": [],
   "source": []
  },
  {
   "cell_type": "code",
   "execution_count": null,
   "id": "2ffa7634",
   "metadata": {},
   "outputs": [],
   "source": []
  },
  {
   "cell_type": "code",
   "execution_count": null,
   "id": "a783556d",
   "metadata": {},
   "outputs": [],
   "source": [
    "# xxxxxxxxxxxxxxxxxxxxxx\n",
    "# xxxxxxxxxxxxxxxxxxxxxx\n",
    "# xxxxxxxxxxxxxxxxxxxxxx\n",
    "# xxxxxxxxxxxxxxxxxxxxxx"
   ]
  },
  {
   "cell_type": "code",
   "execution_count": null,
   "id": "8c59e2bb",
   "metadata": {},
   "outputs": [],
   "source": [
    "# xxxxxxxxxxxxxxxxxxxxxx\n",
    "# xxxxxxxxxxxxxxxxxxxxxx\n",
    "# xxxxxxxxxxxxxxxxxxxxxx\n",
    "# xxxxxxxxxxxxxxxxxxxxxx  - ONLY FOR PARCON"
   ]
  },
  {
   "cell_type": "code",
   "execution_count": null,
   "id": "31aeb6d9",
   "metadata": {},
   "outputs": [],
   "source": [
    "walk_files(list_dirKp,csvfilenameKp,csvfilelocation)\n",
    "now = datetime.datetime.now()\n",
    "print(\"End time: \")\n",
    "print(str(now))\n",
    "\n",
    "#     For GBC Project  \n",
    "walk_files(list_dirKg,csvfilenameKg,csvfilelocation)\n",
    "now = datetime.datetime.now()\n",
    "print(\"End time: \")\n",
    "print(str(now))\n",
    "\n",
    "import glob\n",
    "import pandas as pd\n",
    "os.chdir(csvfilelocation)\n",
    "\n",
    "# Get data file names\n",
    "path = r'G:\\cjang\\INBOX\\access\\FileList'\n",
    "filenames = [\"FileNameKp.csv\", \"FileNameKg.csv\"]\n",
    "\n",
    "dfs = []\n",
    "for filename in filenames:\n",
    "    dfs.append(pd.read_csv(filename))\n",
    "\n",
    "# Concatenate all data into one DataFrame\n",
    "big_frame = pd.concat(dfs, ignore_index=True)\n",
    "big_frame.to_csv(\"FileNameKp.csv\")\n",
    "\n",
    "now = datetime.datetime.now()\n",
    "print(\"End time: \")\n",
    "print(str(now))"
   ]
  },
  {
   "cell_type": "code",
   "execution_count": null,
   "id": "dcb0875e",
   "metadata": {},
   "outputs": [],
   "source": [
    "# xxxxxxxxxxxxxxxxxxxxxx\n",
    "# xxxxxxxxxxxxxxxxxxxxxx  - ONLY FOR SPECIFIC"
   ]
  },
  {
   "cell_type": "code",
   "execution_count": null,
   "id": "c5722a6c",
   "metadata": {},
   "outputs": [],
   "source": [
    "list_dirS = r\"G:\\cjang\\Working\\20080264-Parcon\\Drawing\\pdf\\Combined\\Parcon_PID\\2023-11-23\"\n",
    "csvfilenameS = r'FileNamep.csv'\n",
    "\n",
    "csvfilelocation = r'G:\\cjang\\Working\\20080264-Parcon\\Drawing\\pdf\\Combined\\Parcon_PID\\2023-11-23'\n",
    "csvfilecountlocation = r'G:\\cjang\\Working\\20080264-Parcon\\Drawing\\pdf\\Combined\\Parcon_PID\\2023-11-23'"
   ]
  },
  {
   "cell_type": "code",
   "execution_count": null,
   "id": "d6adc27b",
   "metadata": {},
   "outputs": [],
   "source": [
    "#     For A SPECIFIC Project  \n",
    "walk_files(list_dirS,csvfilenameS,csvfilelocation)\n",
    "now = datetime.datetime.now()\n",
    "print(\"End time: \")\n",
    "print(str(now))\n"
   ]
  },
  {
   "cell_type": "code",
   "execution_count": null,
   "id": "e587b5ad",
   "metadata": {},
   "outputs": [],
   "source": [
    "walk_files(list_dirK,csvfilenameK,csvfilelocation)\n",
    "now = datetime.datetime.now()\n",
    "print(\"End time: \")\n",
    "print(str(now))"
   ]
  },
  {
   "cell_type": "code",
   "execution_count": null,
   "id": "2dcdb60f",
   "metadata": {},
   "outputs": [],
   "source": []
  }
 ],
 "metadata": {
  "kernelspec": {
   "display_name": "Python 3 (ipykernel)",
   "language": "python",
   "name": "python3"
  },
  "language_info": {
   "codemirror_mode": {
    "name": "ipython",
    "version": 3
   },
   "file_extension": ".py",
   "mimetype": "text/x-python",
   "name": "python",
   "nbconvert_exporter": "python",
   "pygments_lexer": "ipython3",
   "version": "3.11.5"
  }
 },
 "nbformat": 4,
 "nbformat_minor": 5
}
